{
 "cells": [
  {
   "cell_type": "code",
   "execution_count": 2,
   "metadata": {},
   "outputs": [],
   "source": [
    "#!pip install NumPy\n",
    "# !pip install pandas\n",
    "# !pip install --user tensorflow\n",
    "# !pip install --user matplotlib\n",
    "# !pip install seaborn\n",
    "# !pip install --user numpy\n",
    "# !pip install missingno \n",
    "# !pip install nnv\n",
    "# !pip install prince\n",
    "# !pip uninstall bioinfokit\n",
    "# !conda install -c bioconda bioinfokit\n",
    "# !pip install dataframe_image               ####https://pypi.org/project/dataframe-image/\n",
    "# !pip install jpype1\n",
    "# !python -m pip install pysimplegui     GUI with Python\n",
    "# !pip install ggplot\n",
    "# !pip install feature_selector\n",
    "# !pip install geopandas\n",
    "#%pip install dataframe"
   ]
  },
  {
   "cell_type": "code",
   "execution_count": null,
   "metadata": {},
   "outputs": [],
   "source": [
    "import numpy as np\n",
    "import os\n",
    "import pandas as pd\n",
    "import seaborn as sns\n",
    "import matplotlib.pyplot as plt\n",
    "import dataframe_image as dfi\n",
    "from matplotlib.patches import PathPatch\n",
    "import numpy as np\n",
    "import scipy.cluster.hierarchy as sch\n",
    "from scipy.stats import pearsonr\n",
    "from scipy.cluster.hierarchy import dendrogram\n",
    "import missingno as msno\n",
    "import matplotlib.patches as mpatches"
   ]
  },
  {
   "cell_type": "code",
   "execution_count": null,
   "metadata": {},
   "outputs": [],
   "source": [
    "from  mpl_toolkits.mplot3d import Axes3D\n",
    "import re\n",
    "from collections import OrderedDict\n",
    "from time import time\n",
    "import sqlite3       \n",
    "from scipy.linalg import svd   \n",
    "from scipy import stats\n",
    "from sklearn.decomposition import TruncatedSVD\n",
    "from sklearn.manifold import TSNE\n",
    "from scipy.sparse import csr_matrix\n",
    "#from ggplot import *\n",
    "from pandas import Timestamp\n",
    "import warnings\n",
    "warnings.filterwarnings('ignore')"
   ]
  },
  {
   "cell_type": "code",
   "execution_count": null,
   "metadata": {},
   "outputs": [],
   "source": []
  }
 ],
 "metadata": {
  "interpreter": {
   "hash": "9b6f2c8b99148d948f71aa9592bcf846dbeb82b5bae437562f2bade33b1aeee8"
  },
  "kernelspec": {
   "display_name": "Python 3.9.12 ('base')",
   "language": "python",
   "name": "python3"
  },
  "language_info": {
   "codemirror_mode": {
    "name": "ipython",
    "version": 3
   },
   "file_extension": ".py",
   "mimetype": "text/x-python",
   "name": "python",
   "nbconvert_exporter": "python",
   "pygments_lexer": "ipython3",
   "version": "3.9.12"
  },
  "orig_nbformat": 4
 },
 "nbformat": 4,
 "nbformat_minor": 2
}
